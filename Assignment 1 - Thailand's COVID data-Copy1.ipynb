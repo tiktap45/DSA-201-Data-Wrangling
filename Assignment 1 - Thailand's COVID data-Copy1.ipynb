{
 "cells": [
  {
   "cell_type": "code",
   "execution_count": 2,
   "metadata": {},
   "outputs": [
    {
     "data": {
      "text/html": [
       "<div>\n",
       "<style scoped>\n",
       "    .dataframe tbody tr th:only-of-type {\n",
       "        vertical-align: middle;\n",
       "    }\n",
       "\n",
       "    .dataframe tbody tr th {\n",
       "        vertical-align: top;\n",
       "    }\n",
       "\n",
       "    .dataframe thead th {\n",
       "        text-align: right;\n",
       "    }\n",
       "</style>\n",
       "<table border=\"1\" class=\"dataframe\">\n",
       "  <thead>\n",
       "    <tr style=\"text-align: right;\">\n",
       "      <th></th>\n",
       "      <th>ConfirmDate</th>\n",
       "      <th>Age</th>\n",
       "      <th>Gender</th>\n",
       "      <th>GenderEn</th>\n",
       "      <th>Nation</th>\n",
       "      <th>Province</th>\n",
       "      <th>ProvinceId</th>\n",
       "      <th>District</th>\n",
       "      <th>ProvinceEn</th>\n",
       "      <th>StatQuarantine</th>\n",
       "    </tr>\n",
       "  </thead>\n",
       "  <tbody>\n",
       "    <tr>\n",
       "      <td>0</td>\n",
       "      <td>2020-08-23 00:00:00</td>\n",
       "      <td>53.0</td>\n",
       "      <td>ชาย</td>\n",
       "      <td>Male</td>\n",
       "      <td>Thailand</td>\n",
       "      <td>ชลบุรี</td>\n",
       "      <td>9</td>\n",
       "      <td>บางละมุง</td>\n",
       "      <td>Chonburi</td>\n",
       "      <td>1</td>\n",
       "    </tr>\n",
       "    <tr>\n",
       "      <td>1</td>\n",
       "      <td>2020-08-23 00:00:00</td>\n",
       "      <td>29.0</td>\n",
       "      <td>หญิง</td>\n",
       "      <td>Female</td>\n",
       "      <td>Thailand</td>\n",
       "      <td>ชลบุรี</td>\n",
       "      <td>9</td>\n",
       "      <td>บางละมุง</td>\n",
       "      <td>Chonburi</td>\n",
       "      <td>1</td>\n",
       "    </tr>\n",
       "    <tr>\n",
       "      <td>2</td>\n",
       "      <td>2020-08-23 00:00:00</td>\n",
       "      <td>26.0</td>\n",
       "      <td>หญิง</td>\n",
       "      <td>Female</td>\n",
       "      <td>Thailand</td>\n",
       "      <td>ชลบุรี</td>\n",
       "      <td>9</td>\n",
       "      <td>บางละมุง</td>\n",
       "      <td>Chonburi</td>\n",
       "      <td>1</td>\n",
       "    </tr>\n",
       "    <tr>\n",
       "      <td>3</td>\n",
       "      <td>2020-08-23 00:00:00</td>\n",
       "      <td>45.0</td>\n",
       "      <td>หญิง</td>\n",
       "      <td>Female</td>\n",
       "      <td>Thailand</td>\n",
       "      <td>ชลบุรี</td>\n",
       "      <td>9</td>\n",
       "      <td>บางละมุง</td>\n",
       "      <td>Chonburi</td>\n",
       "      <td>1</td>\n",
       "    </tr>\n",
       "    <tr>\n",
       "      <td>4</td>\n",
       "      <td>2020-08-23 00:00:00</td>\n",
       "      <td>41.0</td>\n",
       "      <td>หญิง</td>\n",
       "      <td>Female</td>\n",
       "      <td>Thailand</td>\n",
       "      <td>กรุงเทพมหานคร</td>\n",
       "      <td>1</td>\n",
       "      <td>ประเวศ</td>\n",
       "      <td>Bangkok</td>\n",
       "      <td>1</td>\n",
       "    </tr>\n",
       "    <tr>\n",
       "      <td>...</td>\n",
       "      <td>...</td>\n",
       "      <td>...</td>\n",
       "      <td>...</td>\n",
       "      <td>...</td>\n",
       "      <td>...</td>\n",
       "      <td>...</td>\n",
       "      <td>...</td>\n",
       "      <td>...</td>\n",
       "      <td>...</td>\n",
       "      <td>...</td>\n",
       "    </tr>\n",
       "    <tr>\n",
       "      <td>3391</td>\n",
       "      <td>2020-01-24 00:00:00</td>\n",
       "      <td>66.0</td>\n",
       "      <td>หญิง</td>\n",
       "      <td>Female</td>\n",
       "      <td>China</td>\n",
       "      <td>นนทบุรี</td>\n",
       "      <td>24</td>\n",
       "      <td></td>\n",
       "      <td>Nonthaburi</td>\n",
       "      <td>0</td>\n",
       "    </tr>\n",
       "    <tr>\n",
       "      <td>3392</td>\n",
       "      <td>2020-01-22 00:00:00</td>\n",
       "      <td>68.0</td>\n",
       "      <td>ชาย</td>\n",
       "      <td>Male</td>\n",
       "      <td>China</td>\n",
       "      <td>กรุงเทพมหานคร</td>\n",
       "      <td>1</td>\n",
       "      <td></td>\n",
       "      <td>Bangkok</td>\n",
       "      <td>0</td>\n",
       "    </tr>\n",
       "    <tr>\n",
       "      <td>3393</td>\n",
       "      <td>2020-01-22 00:00:00</td>\n",
       "      <td>73.0</td>\n",
       "      <td>หญิง</td>\n",
       "      <td>Female</td>\n",
       "      <td>Thailand</td>\n",
       "      <td>นครปฐม</td>\n",
       "      <td>19</td>\n",
       "      <td>เมือง</td>\n",
       "      <td>Nakhon Pathom</td>\n",
       "      <td>0</td>\n",
       "    </tr>\n",
       "    <tr>\n",
       "      <td>3394</td>\n",
       "      <td>2020-01-17 00:00:00</td>\n",
       "      <td>74.0</td>\n",
       "      <td>หญิง</td>\n",
       "      <td>Female</td>\n",
       "      <td>China</td>\n",
       "      <td>กรุงเทพมหานคร</td>\n",
       "      <td>1</td>\n",
       "      <td></td>\n",
       "      <td>Bangkok</td>\n",
       "      <td>0</td>\n",
       "    </tr>\n",
       "    <tr>\n",
       "      <td>3395</td>\n",
       "      <td>2020-01-12 00:00:00</td>\n",
       "      <td>61.0</td>\n",
       "      <td>หญิง</td>\n",
       "      <td>Female</td>\n",
       "      <td>China</td>\n",
       "      <td>กรุงเทพมหานคร</td>\n",
       "      <td>1</td>\n",
       "      <td></td>\n",
       "      <td>Bangkok</td>\n",
       "      <td>0</td>\n",
       "    </tr>\n",
       "  </tbody>\n",
       "</table>\n",
       "<p>3396 rows × 10 columns</p>\n",
       "</div>"
      ],
      "text/plain": [
       "              ConfirmDate   Age Gender GenderEn    Nation       Province  \\\n",
       "0     2020-08-23 00:00:00  53.0    ชาย     Male  Thailand         ชลบุรี   \n",
       "1     2020-08-23 00:00:00  29.0   หญิง   Female  Thailand         ชลบุรี   \n",
       "2     2020-08-23 00:00:00  26.0   หญิง   Female  Thailand         ชลบุรี   \n",
       "3     2020-08-23 00:00:00  45.0   หญิง   Female  Thailand         ชลบุรี   \n",
       "4     2020-08-23 00:00:00  41.0   หญิง   Female  Thailand  กรุงเทพมหานคร   \n",
       "...                   ...   ...    ...      ...       ...            ...   \n",
       "3391  2020-01-24 00:00:00  66.0   หญิง   Female     China        นนทบุรี   \n",
       "3392  2020-01-22 00:00:00  68.0    ชาย     Male     China  กรุงเทพมหานคร   \n",
       "3393  2020-01-22 00:00:00  73.0   หญิง   Female  Thailand         นครปฐม   \n",
       "3394  2020-01-17 00:00:00  74.0   หญิง   Female     China  กรุงเทพมหานคร   \n",
       "3395  2020-01-12 00:00:00  61.0   หญิง   Female     China  กรุงเทพมหานคร   \n",
       "\n",
       "      ProvinceId  District     ProvinceEn  StatQuarantine  \n",
       "0              9  บางละมุง       Chonburi               1  \n",
       "1              9  บางละมุง       Chonburi               1  \n",
       "2              9  บางละมุง       Chonburi               1  \n",
       "3              9  บางละมุง       Chonburi               1  \n",
       "4              1    ประเวศ        Bangkok               1  \n",
       "...          ...       ...            ...             ...  \n",
       "3391          24               Nonthaburi               0  \n",
       "3392           1                  Bangkok               0  \n",
       "3393          19     เมือง  Nakhon Pathom               0  \n",
       "3394           1                  Bangkok               0  \n",
       "3395           1                  Bangkok               0  \n",
       "\n",
       "[3396 rows x 10 columns]"
      ]
     },
     "execution_count": 2,
     "metadata": {},
     "output_type": "execute_result"
    }
   ],
   "source": [
    "import json\n",
    "import requests\n",
    "import pandas\n",
    "coviddata = json.loads(requests.get(\"https://covid19.th-stat.com/api/open/cases\").text)\n",
    "result = pandas.DataFrame.from_dict(coviddata['Data'])\n",
    "result.dropna(axis='columns')"
   ]
  },
  {
   "cell_type": "code",
   "execution_count": 39,
   "metadata": {},
   "outputs": [
    {
     "name": "stdout",
     "output_type": "stream",
     "text": [
      "#Age\n"
     ]
    },
    {
     "data": {
      "text/plain": [
       "count    3396.000000\n",
       "mean       38.138486\n",
       "std        15.509886\n",
       "min         0.000000\n",
       "25%        26.000000\n",
       "50%        36.000000\n",
       "75%        48.250000\n",
       "max        97.000000\n",
       "Name: Age, dtype: float64"
      ]
     },
     "execution_count": 39,
     "metadata": {},
     "output_type": "execute_result"
    }
   ],
   "source": [
    "#Age\n",
    "print('#Age')\n",
    "result['Age'].describe()"
   ]
  },
  {
   "cell_type": "code",
   "execution_count": 48,
   "metadata": {},
   "outputs": [
    {
     "name": "stdout",
     "output_type": "stream",
     "text": [
      "#Gender\n"
     ]
    },
    {
     "data": {
      "text/plain": [
       "Male      1901\n",
       "Female    1495\n",
       "Name: GenderEn, dtype: int64"
      ]
     },
     "execution_count": 48,
     "metadata": {},
     "output_type": "execute_result"
    }
   ],
   "source": [
    "#Gender\n",
    "print('#Gender')\n",
    "result['GenderEn'].value_counts()"
   ]
  },
  {
   "cell_type": "code",
   "execution_count": 50,
   "metadata": {},
   "outputs": [
    {
     "name": "stdout",
     "output_type": "stream",
     "text": [
      "#Nation\n"
     ]
    },
    {
     "data": {
      "text/plain": [
       "Thailand                 3049\n",
       "Burma                      56\n",
       "China                      35\n",
       "France                     29\n",
       "UnitedKingdom              26\n",
       "ต่างด้าว                   21\n",
       "UnitedStatesofAmerica      15\n",
       "Russia                     13\n",
       "Japan                      11\n",
       "India                      10\n",
       "ไม่ทราบ                     9\n",
       "Italy                       9\n",
       "Germany                     9\n",
       "Canada                      8\n",
       "Sweden                      6\n",
       "Belgium                     6\n",
       "Switzerland                 6\n",
       "Australia                   5\n",
       "Denmark                     5\n",
       "Singapore                   5\n",
       "Philippines                 5\n",
       "Malaysia                    4\n",
       "Vietnam                     4\n",
       "Pakistan                    4\n",
       "Indonesia                   3\n",
       "Cambodia                    3\n",
       "Korea,South                 3\n",
       "Brazil                      2\n",
       "Finland                     2\n",
       "Albania                     2\n",
       "Serbia                      2\n",
       "Netherlands                 2\n",
       "Kazakhstan                  2\n",
       "spain                       2\n",
       "Israel                      2\n",
       "Laos                        2\n",
       "Yemen                       1\n",
       "Taiwan                      1\n",
       "NewZealand                  1\n",
       "Hungary                     1\n",
       "Liberia                     1\n",
       "Mali                        1\n",
       "Ukraine                     1\n",
       "Bangladesh                  1\n",
       "Kuwait                      1\n",
       "India-Thailand              1\n",
       "Iran                        1\n",
       "Egypt                       1\n",
       "Portugal                    1\n",
       "Uzbekistan                  1\n",
       "สหราชอาณาจักร               1\n",
       "Mexico                      1\n",
       "Sudan                       1\n",
       "Tunisia                     1\n",
       "Palestine                   1\n",
       "Name: Nation, dtype: int64"
      ]
     },
     "execution_count": 50,
     "metadata": {},
     "output_type": "execute_result"
    }
   ],
   "source": [
    "#Nation\n",
    "print('#Nation')\n",
    "result['Nation'].value_counts()"
   ]
  },
  {
   "cell_type": "code",
   "execution_count": 51,
   "metadata": {},
   "outputs": [
    {
     "name": "stdout",
     "output_type": "stream",
     "text": [
      "#Province\n"
     ]
    },
    {
     "data": {
      "text/plain": [
       "Bangkok            1674\n",
       "Chonburi            257\n",
       "Phuket              227\n",
       "Samut Prakan        172\n",
       "Nonthaburi          158\n",
       "                   ... \n",
       "Unknown               1\n",
       "Samut Songkhram       1\n",
       "Sakon Nakhon          1\n",
       "Uthai Thani           1\n",
       "Phrae                 1\n",
       "Name: ProvinceEn, Length: 69, dtype: int64"
      ]
     },
     "execution_count": 51,
     "metadata": {},
     "output_type": "execute_result"
    }
   ],
   "source": [
    "#Province\n",
    "print('#Province')\n",
    "result['ProvinceEn'].value_counts()"
   ]
  },
  {
   "cell_type": "code",
   "execution_count": 59,
   "metadata": {},
   "outputs": [
    {
     "name": "stdout",
     "output_type": "stream",
     "text": [
      "#District\n"
     ]
    },
    {
     "data": {
      "text/plain": [
       "              1253\n",
       "เมือง          262\n",
       "สะเดา           81\n",
       "กะทู้           79\n",
       "ถลาง            70\n",
       "              ... \n",
       "เนินมะปราง       1\n",
       "นามน             1\n",
       "คลองจั่น         1\n",
       "ศรีณรงค์         1\n",
       "ฆ้องชัย          1\n",
       "Name: District, Length: 310, dtype: int64"
      ]
     },
     "execution_count": 59,
     "metadata": {},
     "output_type": "execute_result"
    }
   ],
   "source": [
    "#District\n",
    "print('#District')\n",
    "result['District'].value_counts()\n",
    "#1253 ppl from other countries"
   ]
  },
  {
   "cell_type": "code",
   "execution_count": 60,
   "metadata": {},
   "outputs": [
    {
     "name": "stdout",
     "output_type": "stream",
     "text": [
      "#StatQuarantine\n"
     ]
    },
    {
     "data": {
      "text/plain": [
       "0    2873\n",
       "1     523\n",
       "Name: StatQuarantine, dtype: int64"
      ]
     },
     "execution_count": 60,
     "metadata": {},
     "output_type": "execute_result"
    }
   ],
   "source": [
    "#StatQuarantine\n",
    "print('#StatQuarantine')\n",
    "result['StatQuarantine'].value_counts()"
   ]
  },
  {
   "cell_type": "code",
   "execution_count": null,
   "metadata": {},
   "outputs": [],
   "source": []
  }
 ],
 "metadata": {
  "kernelspec": {
   "display_name": "Python 3",
   "language": "python",
   "name": "python3"
  },
  "language_info": {
   "codemirror_mode": {
    "name": "ipython",
    "version": 3
   },
   "file_extension": ".py",
   "mimetype": "text/x-python",
   "name": "python",
   "nbconvert_exporter": "python",
   "pygments_lexer": "ipython3",
   "version": "3.7.4"
  }
 },
 "nbformat": 4,
 "nbformat_minor": 4
}
