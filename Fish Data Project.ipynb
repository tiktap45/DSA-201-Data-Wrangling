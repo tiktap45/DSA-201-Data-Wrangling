{
 "cells": [
  {
   "cell_type": "code",
   "execution_count": 49,
   "metadata": {},
   "outputs": [
    {
     "data": {
      "text/html": [
       "<div>\n",
       "<style scoped>\n",
       "    .dataframe tbody tr th:only-of-type {\n",
       "        vertical-align: middle;\n",
       "    }\n",
       "\n",
       "    .dataframe tbody tr th {\n",
       "        vertical-align: top;\n",
       "    }\n",
       "\n",
       "    .dataframe thead th {\n",
       "        text-align: right;\n",
       "    }\n",
       "</style>\n",
       "<table border=\"1\" class=\"dataframe\">\n",
       "  <thead>\n",
       "    <tr style=\"text-align: right;\">\n",
       "      <th></th>\n",
       "      <th>Year</th>\n",
       "      <th>Month</th>\n",
       "      <th>Day</th>\n",
       "      <th>Hour</th>\n",
       "      <th>Minute</th>\n",
       "      <th>Second</th>\n",
       "      <th>Carbon_monoxide</th>\n",
       "      <th>Internal_temperature</th>\n",
       "      <th>External_temperature</th>\n",
       "      <th>Humidity</th>\n",
       "      <th>...</th>\n",
       "      <th>Unnamed: 25</th>\n",
       "      <th>Unnamed: 26</th>\n",
       "      <th>Unnamed: 27</th>\n",
       "      <th>Unnamed: 28</th>\n",
       "      <th>Unnamed: 29</th>\n",
       "      <th>Unnamed: 30</th>\n",
       "      <th>Unnamed: 31</th>\n",
       "      <th>Unnamed: 32</th>\n",
       "      <th>Unnamed: 33</th>\n",
       "      <th>Unnamed: 34</th>\n",
       "    </tr>\n",
       "  </thead>\n",
       "  <tbody>\n",
       "    <tr>\n",
       "      <td>0</td>\n",
       "      <td>2020.0</td>\n",
       "      <td>6.0</td>\n",
       "      <td>18</td>\n",
       "      <td>14</td>\n",
       "      <td>30.0</td>\n",
       "      <td>43.0</td>\n",
       "      <td>-183.0</td>\n",
       "      <td>25.0</td>\n",
       "      <td>29.0</td>\n",
       "      <td>95.00</td>\n",
       "      <td>...</td>\n",
       "      <td>NaN</td>\n",
       "      <td>NaN</td>\n",
       "      <td>NaN</td>\n",
       "      <td>NaN</td>\n",
       "      <td>NaN</td>\n",
       "      <td>NaN</td>\n",
       "      <td>NaN</td>\n",
       "      <td>NaN</td>\n",
       "      <td>NaN</td>\n",
       "      <td>NaN</td>\n",
       "    </tr>\n",
       "    <tr>\n",
       "      <td>1</td>\n",
       "      <td>2020.0</td>\n",
       "      <td>6.0</td>\n",
       "      <td>18</td>\n",
       "      <td>14</td>\n",
       "      <td>30.0</td>\n",
       "      <td>48.0</td>\n",
       "      <td>-175.0</td>\n",
       "      <td>25.0</td>\n",
       "      <td>29.0</td>\n",
       "      <td>95.00</td>\n",
       "      <td>...</td>\n",
       "      <td>NaN</td>\n",
       "      <td>NaN</td>\n",
       "      <td>NaN</td>\n",
       "      <td>NaN</td>\n",
       "      <td>NaN</td>\n",
       "      <td>NaN</td>\n",
       "      <td>NaN</td>\n",
       "      <td>NaN</td>\n",
       "      <td>NaN</td>\n",
       "      <td>NaN</td>\n",
       "    </tr>\n",
       "    <tr>\n",
       "      <td>2</td>\n",
       "      <td>2020.0</td>\n",
       "      <td>6.0</td>\n",
       "      <td>18</td>\n",
       "      <td>14</td>\n",
       "      <td>31.0</td>\n",
       "      <td>3.0</td>\n",
       "      <td>-175.0</td>\n",
       "      <td>25.0</td>\n",
       "      <td>29.0</td>\n",
       "      <td>95.00</td>\n",
       "      <td>...</td>\n",
       "      <td>NaN</td>\n",
       "      <td>NaN</td>\n",
       "      <td>NaN</td>\n",
       "      <td>NaN</td>\n",
       "      <td>NaN</td>\n",
       "      <td>NaN</td>\n",
       "      <td>NaN</td>\n",
       "      <td>NaN</td>\n",
       "      <td>NaN</td>\n",
       "      <td>NaN</td>\n",
       "    </tr>\n",
       "    <tr>\n",
       "      <td>3</td>\n",
       "      <td>2020.0</td>\n",
       "      <td>6.0</td>\n",
       "      <td>18</td>\n",
       "      <td>14</td>\n",
       "      <td>31.0</td>\n",
       "      <td>8.0</td>\n",
       "      <td>-175.0</td>\n",
       "      <td>25.0</td>\n",
       "      <td>29.0</td>\n",
       "      <td>95.00</td>\n",
       "      <td>...</td>\n",
       "      <td>NaN</td>\n",
       "      <td>NaN</td>\n",
       "      <td>NaN</td>\n",
       "      <td>NaN</td>\n",
       "      <td>NaN</td>\n",
       "      <td>NaN</td>\n",
       "      <td>NaN</td>\n",
       "      <td>NaN</td>\n",
       "      <td>NaN</td>\n",
       "      <td>NaN</td>\n",
       "    </tr>\n",
       "    <tr>\n",
       "      <td>4</td>\n",
       "      <td>2020.0</td>\n",
       "      <td>6.0</td>\n",
       "      <td>18</td>\n",
       "      <td>14</td>\n",
       "      <td>31.0</td>\n",
       "      <td>13.0</td>\n",
       "      <td>-171.0</td>\n",
       "      <td>25.0</td>\n",
       "      <td>29.0</td>\n",
       "      <td>95.00</td>\n",
       "      <td>...</td>\n",
       "      <td>NaN</td>\n",
       "      <td>NaN</td>\n",
       "      <td>NaN</td>\n",
       "      <td>NaN</td>\n",
       "      <td>NaN</td>\n",
       "      <td>NaN</td>\n",
       "      <td>NaN</td>\n",
       "      <td>NaN</td>\n",
       "      <td>NaN</td>\n",
       "      <td>NaN</td>\n",
       "    </tr>\n",
       "    <tr>\n",
       "      <td>...</td>\n",
       "      <td>...</td>\n",
       "      <td>...</td>\n",
       "      <td>...</td>\n",
       "      <td>...</td>\n",
       "      <td>...</td>\n",
       "      <td>...</td>\n",
       "      <td>...</td>\n",
       "      <td>...</td>\n",
       "      <td>...</td>\n",
       "      <td>...</td>\n",
       "      <td>...</td>\n",
       "      <td>...</td>\n",
       "      <td>...</td>\n",
       "      <td>...</td>\n",
       "      <td>...</td>\n",
       "      <td>...</td>\n",
       "      <td>...</td>\n",
       "      <td>...</td>\n",
       "      <td>...</td>\n",
       "      <td>...</td>\n",
       "      <td>...</td>\n",
       "    </tr>\n",
       "    <tr>\n",
       "      <td>811941</td>\n",
       "      <td>2020.0</td>\n",
       "      <td>10.0</td>\n",
       "      <td>19</td>\n",
       "      <td>8</td>\n",
       "      <td>24.0</td>\n",
       "      <td>4.0</td>\n",
       "      <td>NaN</td>\n",
       "      <td>-165.0</td>\n",
       "      <td>25.0</td>\n",
       "      <td>95.00</td>\n",
       "      <td>...</td>\n",
       "      <td>NaN</td>\n",
       "      <td>NaN</td>\n",
       "      <td>NaN</td>\n",
       "      <td>NaN</td>\n",
       "      <td>NaN</td>\n",
       "      <td>NaN</td>\n",
       "      <td>NaN</td>\n",
       "      <td>NaN</td>\n",
       "      <td>NaN</td>\n",
       "      <td>NaN</td>\n",
       "    </tr>\n",
       "    <tr>\n",
       "      <td>811942</td>\n",
       "      <td>2020.0</td>\n",
       "      <td>10.0</td>\n",
       "      <td>19</td>\n",
       "      <td>8</td>\n",
       "      <td>24.0</td>\n",
       "      <td>8.0</td>\n",
       "      <td>NaN</td>\n",
       "      <td>-167.0</td>\n",
       "      <td>25.0</td>\n",
       "      <td>95.00</td>\n",
       "      <td>...</td>\n",
       "      <td>NaN</td>\n",
       "      <td>NaN</td>\n",
       "      <td>NaN</td>\n",
       "      <td>NaN</td>\n",
       "      <td>NaN</td>\n",
       "      <td>NaN</td>\n",
       "      <td>NaN</td>\n",
       "      <td>NaN</td>\n",
       "      <td>NaN</td>\n",
       "      <td>NaN</td>\n",
       "    </tr>\n",
       "    <tr>\n",
       "      <td>811943</td>\n",
       "      <td>2020.0</td>\n",
       "      <td>10.0</td>\n",
       "      <td>19</td>\n",
       "      <td>8</td>\n",
       "      <td>24.0</td>\n",
       "      <td>13.0</td>\n",
       "      <td>NaN</td>\n",
       "      <td>25.0</td>\n",
       "      <td>95.0</td>\n",
       "      <td>25.94</td>\n",
       "      <td>...</td>\n",
       "      <td>NaN</td>\n",
       "      <td>NaN</td>\n",
       "      <td>NaN</td>\n",
       "      <td>NaN</td>\n",
       "      <td>NaN</td>\n",
       "      <td>NaN</td>\n",
       "      <td>NaN</td>\n",
       "      <td>NaN</td>\n",
       "      <td>NaN</td>\n",
       "      <td>NaN</td>\n",
       "    </tr>\n",
       "    <tr>\n",
       "      <td>811944</td>\n",
       "      <td>2020.0</td>\n",
       "      <td>10.0</td>\n",
       "      <td>19</td>\n",
       "      <td>8</td>\n",
       "      <td>24.0</td>\n",
       "      <td>16.0</td>\n",
       "      <td>NaN</td>\n",
       "      <td>-169.0</td>\n",
       "      <td>25.0</td>\n",
       "      <td>95.00</td>\n",
       "      <td>...</td>\n",
       "      <td>NaN</td>\n",
       "      <td>NaN</td>\n",
       "      <td>NaN</td>\n",
       "      <td>NaN</td>\n",
       "      <td>NaN</td>\n",
       "      <td>NaN</td>\n",
       "      <td>NaN</td>\n",
       "      <td>NaN</td>\n",
       "      <td>NaN</td>\n",
       "      <td>NaN</td>\n",
       "    </tr>\n",
       "    <tr>\n",
       "      <td>811945</td>\n",
       "      <td>2020.0</td>\n",
       "      <td>10.0</td>\n",
       "      <td>19</td>\n",
       "      <td>8</td>\n",
       "      <td>24.0</td>\n",
       "      <td>20.0</td>\n",
       "      <td>NaN</td>\n",
       "      <td>-169.0</td>\n",
       "      <td>25.0</td>\n",
       "      <td>95.00</td>\n",
       "      <td>...</td>\n",
       "      <td>NaN</td>\n",
       "      <td>NaN</td>\n",
       "      <td>NaN</td>\n",
       "      <td>NaN</td>\n",
       "      <td>NaN</td>\n",
       "      <td>NaN</td>\n",
       "      <td>NaN</td>\n",
       "      <td>NaN</td>\n",
       "      <td>NaN</td>\n",
       "      <td>NaN</td>\n",
       "    </tr>\n",
       "  </tbody>\n",
       "</table>\n",
       "<p>811946 rows × 35 columns</p>\n",
       "</div>"
      ],
      "text/plain": [
       "          Year  Month  Day  Hour  Minute  Second  Carbon_monoxide  \\\n",
       "0       2020.0    6.0   18    14    30.0    43.0           -183.0   \n",
       "1       2020.0    6.0   18    14    30.0    48.0           -175.0   \n",
       "2       2020.0    6.0   18    14    31.0     3.0           -175.0   \n",
       "3       2020.0    6.0   18    14    31.0     8.0           -175.0   \n",
       "4       2020.0    6.0   18    14    31.0    13.0           -171.0   \n",
       "...        ...    ...  ...   ...     ...     ...              ...   \n",
       "811941  2020.0   10.0   19     8    24.0     4.0              NaN   \n",
       "811942  2020.0   10.0   19     8    24.0     8.0              NaN   \n",
       "811943  2020.0   10.0   19     8    24.0    13.0              NaN   \n",
       "811944  2020.0   10.0   19     8    24.0    16.0              NaN   \n",
       "811945  2020.0   10.0   19     8    24.0    20.0              NaN   \n",
       "\n",
       "        Internal_temperature  External_temperature  Humidity  ...  \\\n",
       "0                       25.0                  29.0     95.00  ...   \n",
       "1                       25.0                  29.0     95.00  ...   \n",
       "2                       25.0                  29.0     95.00  ...   \n",
       "3                       25.0                  29.0     95.00  ...   \n",
       "4                       25.0                  29.0     95.00  ...   \n",
       "...                      ...                   ...       ...  ...   \n",
       "811941                -165.0                  25.0     95.00  ...   \n",
       "811942                -167.0                  25.0     95.00  ...   \n",
       "811943                  25.0                  95.0     25.94  ...   \n",
       "811944                -169.0                  25.0     95.00  ...   \n",
       "811945                -169.0                  25.0     95.00  ...   \n",
       "\n",
       "        Unnamed: 25  Unnamed: 26  Unnamed: 27  Unnamed: 28  Unnamed: 29  \\\n",
       "0               NaN          NaN          NaN          NaN          NaN   \n",
       "1               NaN          NaN          NaN          NaN          NaN   \n",
       "2               NaN          NaN          NaN          NaN          NaN   \n",
       "3               NaN          NaN          NaN          NaN          NaN   \n",
       "4               NaN          NaN          NaN          NaN          NaN   \n",
       "...             ...          ...          ...          ...          ...   \n",
       "811941          NaN          NaN          NaN          NaN          NaN   \n",
       "811942          NaN          NaN          NaN          NaN          NaN   \n",
       "811943          NaN          NaN          NaN          NaN          NaN   \n",
       "811944          NaN          NaN          NaN          NaN          NaN   \n",
       "811945          NaN          NaN          NaN          NaN          NaN   \n",
       "\n",
       "        Unnamed: 30  Unnamed: 31  Unnamed: 32  Unnamed: 33  Unnamed: 34  \n",
       "0               NaN          NaN          NaN          NaN          NaN  \n",
       "1               NaN          NaN          NaN          NaN          NaN  \n",
       "2               NaN          NaN          NaN          NaN          NaN  \n",
       "3               NaN          NaN          NaN          NaN          NaN  \n",
       "4               NaN          NaN          NaN          NaN          NaN  \n",
       "...             ...          ...          ...          ...          ...  \n",
       "811941          NaN          NaN          NaN          NaN          NaN  \n",
       "811942          NaN          NaN          NaN          NaN          NaN  \n",
       "811943          NaN          NaN          NaN          NaN          NaN  \n",
       "811944          NaN          NaN          NaN          NaN          NaN  \n",
       "811945          NaN          NaN          NaN          NaN          NaN  \n",
       "\n",
       "[811946 rows x 35 columns]"
      ]
     },
     "execution_count": 49,
     "metadata": {},
     "output_type": "execute_result"
    }
   ],
   "source": [
    "    #Final Projct: Fish Data\n",
    "import pandas as pd\n",
    "import csv\n",
    "import numpy as np\n",
    "import seaborn as sns\n",
    "import matplotlib.pyplot as plt \n",
    "from datetime import timedelta\n",
    "# if using a Jupyter notebook, includue:\n",
    "%matplotlib inline\n",
    "\n",
    "import sys\n",
    "#!{sys.executable} -m pip install selenium\n",
    "df = pd.read_csv(r\"C:/Users/PornpatSamartlertdee/Desktop/TNI/DSA-201 Data Wrangling/fishdata_csv3.csv\", encoding= 'unicode_escape')\n",
    "df"
   ]
  },
  {
   "cell_type": "code",
   "execution_count": 50,
   "metadata": {},
   "outputs": [
    {
     "data": {
      "text/html": [
       "<div>\n",
       "<style scoped>\n",
       "    .dataframe tbody tr th:only-of-type {\n",
       "        vertical-align: middle;\n",
       "    }\n",
       "\n",
       "    .dataframe tbody tr th {\n",
       "        vertical-align: top;\n",
       "    }\n",
       "\n",
       "    .dataframe thead th {\n",
       "        text-align: right;\n",
       "    }\n",
       "</style>\n",
       "<table border=\"1\" class=\"dataframe\">\n",
       "  <thead>\n",
       "    <tr style=\"text-align: right;\">\n",
       "      <th></th>\n",
       "      <th>Year</th>\n",
       "      <th>Month</th>\n",
       "      <th>Day</th>\n",
       "      <th>Hour</th>\n",
       "      <th>Minute</th>\n",
       "      <th>Second</th>\n",
       "      <th>Carbon_monoxide</th>\n",
       "      <th>Internal_temperature</th>\n",
       "      <th>External_temperature</th>\n",
       "      <th>Humidity</th>\n",
       "      <th>Light_intensity</th>\n",
       "      <th>pH</th>\n",
       "      <th>Date</th>\n",
       "      <th>Time</th>\n",
       "      <th>Datetime</th>\n",
       "    </tr>\n",
       "  </thead>\n",
       "  <tbody>\n",
       "    <tr>\n",
       "      <td>8313</td>\n",
       "      <td>2020</td>\n",
       "      <td>6</td>\n",
       "      <td>19</td>\n",
       "      <td>5</td>\n",
       "      <td>31</td>\n",
       "      <td>51</td>\n",
       "      <td>8.0</td>\n",
       "      <td>35.000000</td>\n",
       "      <td>31.000000</td>\n",
       "      <td>95.0</td>\n",
       "      <td>29.620000</td>\n",
       "      <td>4.180000</td>\n",
       "      <td>2020-6-19</td>\n",
       "      <td>5:31:51</td>\n",
       "      <td>2020-06-19 05:31:51</td>\n",
       "    </tr>\n",
       "    <tr>\n",
       "      <td>8314</td>\n",
       "      <td>2020</td>\n",
       "      <td>6</td>\n",
       "      <td>19</td>\n",
       "      <td>5</td>\n",
       "      <td>31</td>\n",
       "      <td>56</td>\n",
       "      <td>8.0</td>\n",
       "      <td>36.000000</td>\n",
       "      <td>31.000000</td>\n",
       "      <td>95.0</td>\n",
       "      <td>29.620000</td>\n",
       "      <td>4.180000</td>\n",
       "      <td>2020-6-19</td>\n",
       "      <td>5:31:56</td>\n",
       "      <td>2020-06-19 05:31:56</td>\n",
       "    </tr>\n",
       "    <tr>\n",
       "      <td>8315</td>\n",
       "      <td>2020</td>\n",
       "      <td>6</td>\n",
       "      <td>19</td>\n",
       "      <td>5</td>\n",
       "      <td>32</td>\n",
       "      <td>1</td>\n",
       "      <td>8.0</td>\n",
       "      <td>36.000000</td>\n",
       "      <td>31.000000</td>\n",
       "      <td>95.0</td>\n",
       "      <td>29.620000</td>\n",
       "      <td>4.170000</td>\n",
       "      <td>2020-6-19</td>\n",
       "      <td>5:32:1</td>\n",
       "      <td>2020-06-19 05:32:01</td>\n",
       "    </tr>\n",
       "    <tr>\n",
       "      <td>8316</td>\n",
       "      <td>2020</td>\n",
       "      <td>6</td>\n",
       "      <td>19</td>\n",
       "      <td>5</td>\n",
       "      <td>32</td>\n",
       "      <td>11</td>\n",
       "      <td>8.0</td>\n",
       "      <td>35.000000</td>\n",
       "      <td>31.000000</td>\n",
       "      <td>95.0</td>\n",
       "      <td>29.620000</td>\n",
       "      <td>4.180000</td>\n",
       "      <td>2020-6-19</td>\n",
       "      <td>5:32:11</td>\n",
       "      <td>2020-06-19 05:32:11</td>\n",
       "    </tr>\n",
       "    <tr>\n",
       "      <td>8317</td>\n",
       "      <td>2020</td>\n",
       "      <td>6</td>\n",
       "      <td>19</td>\n",
       "      <td>5</td>\n",
       "      <td>32</td>\n",
       "      <td>16</td>\n",
       "      <td>8.0</td>\n",
       "      <td>35.000000</td>\n",
       "      <td>31.000000</td>\n",
       "      <td>95.0</td>\n",
       "      <td>29.620000</td>\n",
       "      <td>4.210000</td>\n",
       "      <td>2020-6-19</td>\n",
       "      <td>5:32:16</td>\n",
       "      <td>2020-06-19 05:32:16</td>\n",
       "    </tr>\n",
       "    <tr>\n",
       "      <td>...</td>\n",
       "      <td>...</td>\n",
       "      <td>...</td>\n",
       "      <td>...</td>\n",
       "      <td>...</td>\n",
       "      <td>...</td>\n",
       "      <td>...</td>\n",
       "      <td>...</td>\n",
       "      <td>...</td>\n",
       "      <td>...</td>\n",
       "      <td>...</td>\n",
       "      <td>...</td>\n",
       "      <td>...</td>\n",
       "      <td>...</td>\n",
       "      <td>...</td>\n",
       "      <td>...</td>\n",
       "    </tr>\n",
       "    <tr>\n",
       "      <td>625254</td>\n",
       "      <td>2020</td>\n",
       "      <td>8</td>\n",
       "      <td>14</td>\n",
       "      <td>11</td>\n",
       "      <td>13</td>\n",
       "      <td>11</td>\n",
       "      <td>256.0</td>\n",
       "      <td>34.000000</td>\n",
       "      <td>30.000000</td>\n",
       "      <td>95.0</td>\n",
       "      <td>26.870000</td>\n",
       "      <td>4.150000</td>\n",
       "      <td>2020-8-14</td>\n",
       "      <td>11:13:11</td>\n",
       "      <td>2020-08-14 11:13:11</td>\n",
       "    </tr>\n",
       "    <tr>\n",
       "      <td>625255</td>\n",
       "      <td>2020</td>\n",
       "      <td>8</td>\n",
       "      <td>14</td>\n",
       "      <td>11</td>\n",
       "      <td>13</td>\n",
       "      <td>16</td>\n",
       "      <td>256.0</td>\n",
       "      <td>35.000000</td>\n",
       "      <td>30.000000</td>\n",
       "      <td>95.0</td>\n",
       "      <td>26.870000</td>\n",
       "      <td>4.160000</td>\n",
       "      <td>2020-8-14</td>\n",
       "      <td>11:13:16</td>\n",
       "      <td>2020-08-14 11:13:16</td>\n",
       "    </tr>\n",
       "    <tr>\n",
       "      <td>625256</td>\n",
       "      <td>2020</td>\n",
       "      <td>8</td>\n",
       "      <td>14</td>\n",
       "      <td>11</td>\n",
       "      <td>13</td>\n",
       "      <td>19</td>\n",
       "      <td>256.0</td>\n",
       "      <td>35.000000</td>\n",
       "      <td>30.000000</td>\n",
       "      <td>95.0</td>\n",
       "      <td>26.810000</td>\n",
       "      <td>4.140000</td>\n",
       "      <td>2020-8-14</td>\n",
       "      <td>11:13:19</td>\n",
       "      <td>2020-08-14 11:13:19</td>\n",
       "    </tr>\n",
       "    <tr>\n",
       "      <td>625569</td>\n",
       "      <td>2020</td>\n",
       "      <td>8</td>\n",
       "      <td>18</td>\n",
       "      <td>15</td>\n",
       "      <td>34</td>\n",
       "      <td>11</td>\n",
       "      <td>257.0</td>\n",
       "      <td>31.070735</td>\n",
       "      <td>29.898698</td>\n",
       "      <td>95.0</td>\n",
       "      <td>27.440246</td>\n",
       "      <td>3.969158</td>\n",
       "      <td>2020-8-18</td>\n",
       "      <td>15:34:11</td>\n",
       "      <td>2020-08-18 15:34:11</td>\n",
       "    </tr>\n",
       "    <tr>\n",
       "      <td>670816</td>\n",
       "      <td>2020</td>\n",
       "      <td>8</td>\n",
       "      <td>31</td>\n",
       "      <td>9</td>\n",
       "      <td>18</td>\n",
       "      <td>1</td>\n",
       "      <td>271.0</td>\n",
       "      <td>31.070735</td>\n",
       "      <td>29.898698</td>\n",
       "      <td>95.0</td>\n",
       "      <td>27.440246</td>\n",
       "      <td>3.969158</td>\n",
       "      <td>2020-8-31</td>\n",
       "      <td>9:18:1</td>\n",
       "      <td>2020-08-31 09:18:01</td>\n",
       "    </tr>\n",
       "  </tbody>\n",
       "</table>\n",
       "<p>91789 rows × 15 columns</p>\n",
       "</div>"
      ],
      "text/plain": [
       "        Year  Month  Day  Hour  Minute  Second  Carbon_monoxide  \\\n",
       "8313    2020      6   19     5      31      51              8.0   \n",
       "8314    2020      6   19     5      31      56              8.0   \n",
       "8315    2020      6   19     5      32       1              8.0   \n",
       "8316    2020      6   19     5      32      11              8.0   \n",
       "8317    2020      6   19     5      32      16              8.0   \n",
       "...      ...    ...  ...   ...     ...     ...              ...   \n",
       "625254  2020      8   14    11      13      11            256.0   \n",
       "625255  2020      8   14    11      13      16            256.0   \n",
       "625256  2020      8   14    11      13      19            256.0   \n",
       "625569  2020      8   18    15      34      11            257.0   \n",
       "670816  2020      8   31     9      18       1            271.0   \n",
       "\n",
       "        Internal_temperature  External_temperature  Humidity  Light_intensity  \\\n",
       "8313               35.000000             31.000000      95.0        29.620000   \n",
       "8314               36.000000             31.000000      95.0        29.620000   \n",
       "8315               36.000000             31.000000      95.0        29.620000   \n",
       "8316               35.000000             31.000000      95.0        29.620000   \n",
       "8317               35.000000             31.000000      95.0        29.620000   \n",
       "...                      ...                   ...       ...              ...   \n",
       "625254             34.000000             30.000000      95.0        26.870000   \n",
       "625255             35.000000             30.000000      95.0        26.870000   \n",
       "625256             35.000000             30.000000      95.0        26.810000   \n",
       "625569             31.070735             29.898698      95.0        27.440246   \n",
       "670816             31.070735             29.898698      95.0        27.440246   \n",
       "\n",
       "              pH       Date      Time            Datetime  \n",
       "8313    4.180000  2020-6-19   5:31:51 2020-06-19 05:31:51  \n",
       "8314    4.180000  2020-6-19   5:31:56 2020-06-19 05:31:56  \n",
       "8315    4.170000  2020-6-19    5:32:1 2020-06-19 05:32:01  \n",
       "8316    4.180000  2020-6-19   5:32:11 2020-06-19 05:32:11  \n",
       "8317    4.210000  2020-6-19   5:32:16 2020-06-19 05:32:16  \n",
       "...          ...        ...       ...                 ...  \n",
       "625254  4.150000  2020-8-14  11:13:11 2020-08-14 11:13:11  \n",
       "625255  4.160000  2020-8-14  11:13:16 2020-08-14 11:13:16  \n",
       "625256  4.140000  2020-8-14  11:13:19 2020-08-14 11:13:19  \n",
       "625569  3.969158  2020-8-18  15:34:11 2020-08-18 15:34:11  \n",
       "670816  3.969158  2020-8-31    9:18:1 2020-08-31 09:18:01  \n",
       "\n",
       "[91789 rows x 15 columns]"
      ]
     },
     "execution_count": 50,
     "metadata": {},
     "output_type": "execute_result"
    }
   ],
   "source": [
    "# Data Cleaning\n",
    "    # Remove unused rows\n",
    "df = df.drop(df[(df['Unnamed: 12'] <= 0) | (df['Unnamed: 12'] > 0)].index)\n",
    "\n",
    "    # Remove unused columns\n",
    "df = df.dropna(axis=1, how=\"all\")\n",
    "\n",
    "    # Drop duplicates\n",
    "df = df.drop_duplicates()\n",
    "\n",
    "    # Remove rows with invalid data (I'll assume data outside the given range are invalid data)\n",
    "        # pH\n",
    "df = df.drop(df[(df['pH'] > 14) | (df['pH'] < 0)].index)\n",
    "\n",
    "        # Year\n",
    "df = df.drop(df[(df['Year'] < 1800) | (df['Year'] > 2030)].index)   \n",
    "\n",
    "        # Carbon monoxide\n",
    "df = df.drop(df[(df['Carbon_monoxide'] <= 0)].index)   \n",
    "\n",
    "        # Internal temperature\n",
    "df = df.drop(df[(df['Internal_temperature'] < 10) | (df['Internal_temperature'] > 50)].index)   \n",
    "\n",
    "        # External temperature\n",
    "df = df.drop(df[(df['External_temperature'] < 10) | (df['External_temperature'] > 50)].index)   \n",
    "\n",
    "        # Month\n",
    "df = df.drop(df[(df['Month'] > 12) | (df['Month'] < 0)].index)   \n",
    "\n",
    "        # Day\n",
    "df = df.drop(df[(df['Day'] > 31) | (df['Day'] < 0)].index)   \n",
    "        \n",
    "    # Replace NaN with avergae value\n",
    "df = df.fillna(df.mean())\n",
    "\n",
    "    # Add Date, Time, and Datetime columns\n",
    "df[\"Month\"] = df[\"Month\"].astype(int)\n",
    "df[\"Year\"] = df[\"Year\"].astype(int)\n",
    "df[\"Date\"] = df[\"Year\"].astype(str) + \"-\" + df[\"Month\"].astype(str) + \"-\" + df[\"Day\"].astype(str)\n",
    "\n",
    "df[\"Minute\"] = df[\"Minute\"].astype(int)\n",
    "df[\"Second\"] = df[\"Second\"].astype(int)\n",
    "df[\"Time\"] = df[\"Hour\"].astype(str) + \":\" + df[\"Minute\"].astype(str) + \":\" + df[\"Second\"].astype(str)\n",
    "\n",
    "df[\"Datetime\"] = pd.to_datetime(df['Date'] + ' ' + df['Time'])\n",
    "df"
   ]
  },
  {
   "cell_type": "code",
   "execution_count": 69,
   "metadata": {},
   "outputs": [
    {
     "data": {
      "image/png": "[encoded data removed]",
      "text/plain": [
       "<Figure size 432x288 with 1 Axes>"
      ]
     },
     "metadata": {
      "needs_background": "light"
     },
     "output_type": "display_data"
    }
   ],
   "source": [
    "plt.plot(df['Datetime'], df['Carbon_monoxide'], color='g')\n",
    "plt.xlabel('Datetime')\n",
    "plt.ylabel('Carbon monoxide')\n",
    "plt.title('Carbon monoxide By Datetime')\n",
    "plt.show()"
   ]
  },
  {
   "cell_type": "code",
   "execution_count": 70,
   "metadata": {},
   "outputs": [
    {
     "data": {
      "image/png": "[encoded data removed]",
      "text/plain": [
       "<Figure size 432x288 with 1 Axes>"
      ]
     },
     "metadata": {
      "needs_background": "light"
     },
     "output_type": "display_data"
    }
   ],
   "source": [
    "plt.hist(df['Carbon_monoxide'], 20,\n",
    "         density=True,\n",
    "         histtype='bar',\n",
    "         facecolor='b',\n",
    "         alpha=0.5)\n",
    "\n",
    "plt.show()"
   ]
  },
  {
   "cell_type": "code",
   "execution_count": 71,
   "metadata": {},
   "outputs": [
    {
     "data": {
      "text/plain": [
       "count    91789.000000\n",
       "mean       201.583251\n",
       "std         45.682985\n",
       "min          8.000000\n",
       "25%        189.000000\n",
       "50%        199.000000\n",
       "75%        228.000000\n",
       "max        271.000000\n",
       "Name: Carbon_monoxide, dtype: float64"
      ]
     },
     "execution_count": 71,
     "metadata": {},
     "output_type": "execute_result"
    }
   ],
   "source": [
    "df['Carbon_monoxide'].describe()"
   ]
  },
  {
   "cell_type": "code",
   "execution_count": 72,
   "metadata": {},
   "outputs": [
    {
     "data": {
      "image/png": "[encoded data removed]",
      "text/plain": [
       "<Figure size 432x288 with 1 Axes>"
      ]
     },
     "metadata": {
      "needs_background": "light"
     },
     "output_type": "display_data"
    }
   ],
   "source": [
    "plt.plot(df['Datetime'], df['Internal_temperature'], color='g')\n",
    "plt.xlabel('Datetime')\n",
    "plt.ylabel('Internal Temperature')\n",
    "plt.title('Internal Temperature By Datetime')\n",
    "plt.show()"
   ]
  },
  {
   "cell_type": "code",
   "execution_count": 73,
   "metadata": {},
   "outputs": [
    {
     "data": {
      "image/png": "[encoded data removed]",
      "text/plain": [
       "<Figure size 432x288 with 1 Axes>"
      ]
     },
     "metadata": {
      "needs_background": "light"
     },
     "output_type": "display_data"
    }
   ],
   "source": [
    "plt.hist(df['Internal_temperature'], 20,\n",
    "         density=True,\n",
    "         histtype='bar',\n",
    "         facecolor='b',\n",
    "         alpha=0.5)\n",
    "\n",
    "plt.show()"
   ]
  },
  {
   "cell_type": "code",
   "execution_count": 74,
   "metadata": {},
   "outputs": [
    {
     "data": {
      "text/plain": [
       "count    91789.000000\n",
       "mean        31.070735\n",
       "std         10.171529\n",
       "min         10.000000\n",
       "25%         22.000000\n",
       "50%         32.000000\n",
       "75%         40.000000\n",
       "max         50.000000\n",
       "Name: Internal_temperature, dtype: float64"
      ]
     },
     "execution_count": 74,
     "metadata": {},
     "output_type": "execute_result"
    }
   ],
   "source": [
    "df['Internal_temperature'].describe()"
   ]
  },
  {
   "cell_type": "code",
   "execution_count": 75,
   "metadata": {},
   "outputs": [
    {
     "data": {
      "image/png": "[encoded data removed]",
      "text/plain": [
       "<Figure size 432x288 with 1 Axes>"
      ]
     },
     "metadata": {
      "needs_background": "light"
     },
     "output_type": "display_data"
    }
   ],
   "source": [
    "plt.plot(df['Datetime'], df['External_temperature'], color='g')\n",
    "plt.xlabel('Datetime')\n",
    "plt.ylabel('External temperature')\n",
    "plt.title('External temperature By Datetime')\n",
    "plt.show()"
   ]
  },
  {
   "cell_type": "code",
   "execution_count": 76,
   "metadata": {},
   "outputs": [
    {
     "data": {
      "image/png": "[encoded data removed]",
      "text/plain": [
       "<Figure size 432x288 with 1 Axes>"
      ]
     },
     "metadata": {
      "needs_background": "light"
     },
     "output_type": "display_data"
    }
   ],
   "source": [
    "plt.hist(df['External_temperature'], 20,\n",
    "         density=True,\n",
    "         histtype='bar',\n",
    "         facecolor='b',\n",
    "         alpha=0.5)\n",
    "\n",
    "plt.show()"
   ]
  },
  {
   "cell_type": "code",
   "execution_count": 77,
   "metadata": {},
   "outputs": [
    {
     "data": {
      "text/plain": [
       "count    91789.000000\n",
       "mean        29.898698\n",
       "std          1.080619\n",
       "min         27.000000\n",
       "25%         29.000000\n",
       "50%         30.000000\n",
       "75%         30.000000\n",
       "max         35.000000\n",
       "Name: External_temperature, dtype: float64"
      ]
     },
     "execution_count": 77,
     "metadata": {},
     "output_type": "execute_result"
    }
   ],
   "source": [
    "df['External_temperature'].describe()"
   ]
  },
  {
   "cell_type": "code",
   "execution_count": 78,
   "metadata": {},
   "outputs": [
    {
     "data": {
      "image/png": "[encoded data removed]",
      "text/plain": [
       "<Figure size 432x288 with 1 Axes>"
      ]
     },
     "metadata": {
      "needs_background": "light"
     },
     "output_type": "display_data"
    }
   ],
   "source": [
    "plt.plot(df['Datetime'], df['Humidity'], color='g')\n",
    "plt.xlabel('Datetime')\n",
    "plt.ylabel('Humidity')\n",
    "plt.title('Humidity By Datetime')\n",
    "plt.show()"
   ]
  },
  {
   "cell_type": "code",
   "execution_count": 79,
   "metadata": {},
   "outputs": [
    {
     "data": {
      "image/png": "[encoded data removed]",
      "text/plain": [
       "<Figure size 432x288 with 1 Axes>"
      ]
     },
     "metadata": {
      "needs_background": "light"
     },
     "output_type": "display_data"
    }
   ],
   "source": [
    "plt.hist(df['Humidity'], 20,\n",
    "         density=True,\n",
    "         histtype='bar',\n",
    "         facecolor='b',\n",
    "         alpha=0.5)\n",
    "\n",
    "plt.show()"
   ]
  },
  {
   "cell_type": "code",
   "execution_count": 80,
   "metadata": {},
   "outputs": [
    {
     "data": {
      "text/plain": [
       "count    91789.0\n",
       "mean        95.0\n",
       "std          0.0\n",
       "min         95.0\n",
       "25%         95.0\n",
       "50%         95.0\n",
       "75%         95.0\n",
       "max         95.0\n",
       "Name: Humidity, dtype: float64"
      ]
     },
     "execution_count": 80,
     "metadata": {},
     "output_type": "execute_result"
    }
   ],
   "source": [
    "df['Humidity'].describe()"
   ]
  },
  {
   "cell_type": "code",
   "execution_count": 81,
   "metadata": {},
   "outputs": [
    {
     "data": {
      "image/png": "[encoded data removed]",
      "text/plain": [
       "<Figure size 432x288 with 1 Axes>"
      ]
     },
     "metadata": {
      "needs_background": "light"
     },
     "output_type": "display_data"
    }
   ],
   "source": [
    "plt.plot(df['Datetime'], df['Light_intensity'], color='g')\n",
    "plt.xlabel('Datetime')\n",
    "plt.ylabel('Light intensity')\n",
    "plt.title('Light intensity By Datetime')\n",
    "plt.show()"
   ]
  },
  {
   "cell_type": "code",
   "execution_count": 82,
   "metadata": {},
   "outputs": [
    {
     "data": {
      "image/png": "[encoded data removed]",
      "text/plain": [
       "<Figure size 432x288 with 1 Axes>"
      ]
     },
     "metadata": {
      "needs_background": "light"
     },
     "output_type": "display_data"
    }
   ],
   "source": [
    "plt.hist(df['Light_intensity'], 20,\n",
    "         density=True,\n",
    "         histtype='bar',\n",
    "         facecolor='b',\n",
    "         alpha=0.5)\n",
    "\n",
    "plt.show()"
   ]
  },
  {
   "cell_type": "code",
   "execution_count": 83,
   "metadata": {},
   "outputs": [
    {
     "data": {
      "text/plain": [
       "count    91789.000000\n",
       "mean        27.440246\n",
       "std          1.092311\n",
       "min         25.370000\n",
       "25%         26.690000\n",
       "50%         27.310000\n",
       "75%         27.810000\n",
       "max         31.870000\n",
       "Name: Light_intensity, dtype: float64"
      ]
     },
     "execution_count": 83,
     "metadata": {},
     "output_type": "execute_result"
    }
   ],
   "source": [
    "df['Light_intensity'].describe()"
   ]
  },
  {
   "cell_type": "code",
   "execution_count": 84,
   "metadata": {},
   "outputs": [
    {
     "data": {
      "image/png": "[encoded data removed]",
      "text/plain": [
       "<Figure size 432x288 with 1 Axes>"
      ]
     },
     "metadata": {
      "needs_background": "light"
     },
     "output_type": "display_data"
    }
   ],
   "source": [
    "plt.plot(df['Datetime'], df['pH'], color='g')\n",
    "plt.xlabel('Datetime')\n",
    "plt.ylabel('pH')\n",
    "plt.title('pH By Datetime')\n",
    "plt.show()"
   ]
  },
  {
   "cell_type": "code",
   "execution_count": 85,
   "metadata": {},
   "outputs": [
    {
     "data": {
      "image/png": "[encoded data removed]",
      "text/plain": [
       "<Figure size 432x288 with 1 Axes>"
      ]
     },
     "metadata": {
      "needs_background": "light"
     },
     "output_type": "display_data"
    }
   ],
   "source": [
    "plt.hist(df['pH'], 20,\n",
    "         density=True,\n",
    "         histtype='bar',\n",
    "         facecolor='b',\n",
    "         alpha=0.5)\n",
    "\n",
    "plt.show()"
   ]
  },
  {
   "cell_type": "code",
   "execution_count": 86,
   "metadata": {},
   "outputs": [
    {
     "data": {
      "text/plain": [
       "count    91789.000000\n",
       "mean         3.969158\n",
       "std          0.177635\n",
       "min          3.650000\n",
       "25%          3.830000\n",
       "50%          3.920000\n",
       "75%          4.060000\n",
       "max          4.780000\n",
       "Name: pH, dtype: float64"
      ]
     },
     "execution_count": 86,
     "metadata": {},
     "output_type": "execute_result"
    }
   ],
   "source": [
    "df['pH'].describe()"
   ]
  }
 ],
 "metadata": {
  "kernelspec": {
   "display_name": "Python 3",
   "language": "python",
   "name": "python3"
  },
  "language_info": {
   "codemirror_mode": {
    "name": "ipython",
    "version": 3
   },
   "file_extension": ".py",
   "mimetype": "text/x-python",
   "name": "python",
   "nbconvert_exporter": "python",
   "pygments_lexer": "ipython3",
   "version": "3.7.4"
  }
 },
 "nbformat": 4,
 "nbformat_minor": 4
}
